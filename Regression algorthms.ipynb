{
 "cells": [
  {
   "cell_type": "code",
   "execution_count": 1,
   "id": "5c481178",
   "metadata": {},
   "outputs": [],
   "source": [
    "# importing libraries\n",
    "import pandas as pd\n",
    "import numpy as np \n",
    "import matplotlib.pyplot as plt "
   ]
  },
  {
   "cell_type": "code",
   "execution_count": 2,
   "id": "bce6097e",
   "metadata": {},
   "outputs": [],
   "source": [
    "#data frame from dictionary \n",
    "data={\"temperature\":[0,20,40,60,80,100,120,140,160,180,200,220,240,260,280,300,320,340,360],\n",
    "     \"pressure\":[0.0004,0.0012,0.006,0.03,0.09,0.27,0.75,1.85,4.2,8.8,17.3,32.1,57,96,157,247,376,558,806]\n",
    "     }\n",
    "data = pd.DataFrame(data)\n"
   ]
  },
  {
   "cell_type": "code",
   "execution_count": 3,
   "id": "900b1b0a",
   "metadata": {},
   "outputs": [
    {
     "data": {
      "text/html": [
       "<div>\n",
       "<style scoped>\n",
       "    .dataframe tbody tr th:only-of-type {\n",
       "        vertical-align: middle;\n",
       "    }\n",
       "\n",
       "    .dataframe tbody tr th {\n",
       "        vertical-align: top;\n",
       "    }\n",
       "\n",
       "    .dataframe thead th {\n",
       "        text-align: right;\n",
       "    }\n",
       "</style>\n",
       "<table border=\"1\" class=\"dataframe\">\n",
       "  <thead>\n",
       "    <tr style=\"text-align: right;\">\n",
       "      <th></th>\n",
       "      <th>temperature</th>\n",
       "      <th>pressure</th>\n",
       "    </tr>\n",
       "  </thead>\n",
       "  <tbody>\n",
       "    <tr>\n",
       "      <th>0</th>\n",
       "      <td>0</td>\n",
       "      <td>0.0004</td>\n",
       "    </tr>\n",
       "    <tr>\n",
       "      <th>1</th>\n",
       "      <td>20</td>\n",
       "      <td>0.0012</td>\n",
       "    </tr>\n",
       "  </tbody>\n",
       "</table>\n",
       "</div>"
      ],
      "text/plain": [
       "   temperature  pressure\n",
       "0            0    0.0004\n",
       "1           20    0.0012"
      ]
     },
     "execution_count": 3,
     "metadata": {},
     "output_type": "execute_result"
    }
   ],
   "source": [
    "data.head(2)"
   ]
  },
  {
   "cell_type": "code",
   "execution_count": 4,
   "id": "377f4d22",
   "metadata": {},
   "outputs": [],
   "source": [
    "#extracting a dependent(target)  and independent data \n",
    "x =data.iloc[:,:1].values\n",
    "y=data.iloc[:,-1].values\n"
   ]
  },
  {
   "cell_type": "code",
   "execution_count": 5,
   "id": "46b8715f",
   "metadata": {},
   "outputs": [],
   "source": [
    "x_train=x\n",
    "y_train=y"
   ]
  },
  {
   "cell_type": "code",
   "execution_count": 6,
   "id": "4f32bb92",
   "metadata": {},
   "outputs": [
    {
     "data": {
      "text/plain": [
       "<function matplotlib.pyplot.show(close=None, block=None)>"
      ]
     },
     "execution_count": 6,
     "metadata": {},
     "output_type": "execute_result"
    },
    {
     "data": {
      "image/png": "[encoded data removed]",
      "text/plain": [
       "<Figure size 432x288 with 1 Axes>"
      ]
     },
     "metadata": {
      "needs_background": "light"
     },
     "output_type": "display_data"
    }
   ],
   "source": [
    "# visualize how our data  trend so that we can see to model tu use\n",
    "plt.scatter(x_train,y_train)\n",
    "plt.show"
   ]
  },
  {
   "cell_type": "markdown",
   "id": "fd0b3938",
   "metadata": {},
   "source": [
    "### 1.Using Linear regression "
   ]
  },
  {
   "cell_type": "code",
   "execution_count": 7,
   "id": "cf5f7348",
   "metadata": {},
   "outputs": [],
   "source": [
    "from sklearn.linear_model import LinearRegression\n",
    "lr=LinearRegression()\n",
    "Model=lr.fit(x_train,y_train)"
   ]
  },
  {
   "cell_type": "code",
   "execution_count": 8,
   "id": "da8551f6",
   "metadata": {},
   "outputs": [
    {
     "data": {
      "text/plain": [
       "LinearRegression()"
      ]
     },
     "execution_count": 8,
     "metadata": {},
     "output_type": "execute_result"
    }
   ],
   "source": [
    "Model"
   ]
  },
  {
   "cell_type": "code",
   "execution_count": 9,
   "id": "11f46be8",
   "metadata": {},
   "outputs": [
    {
     "data": {
      "text/plain": [
       "(array([1.51241972]), -147.8988336842105)"
      ]
     },
     "execution_count": 9,
     "metadata": {},
     "output_type": "execute_result"
    }
   ],
   "source": [
    "Model.coef_, Model.intercept_"
   ]
  },
  {
   "cell_type": "code",
   "execution_count": 11,
   "id": "21d41131",
   "metadata": {},
   "outputs": [
    {
     "data": {
      "text/plain": [
       "array([-147.89883368, -117.6504393 ,  -87.40204491,  -57.15365053,\n",
       "        -26.90525614,    3.34313825,   33.59153263,   63.83992702,\n",
       "         94.0883214 ,  124.33671579,  154.58511018,  184.83350456,\n",
       "        215.08189895,  245.33029333,  275.57868772,  305.82708211,\n",
       "        336.07547649,  366.32387088,  396.57226526])"
      ]
     },
     "execution_count": 11,
     "metadata": {},
     "output_type": "execute_result"
    }
   ],
   "source": [
    "# prediction \n",
    "y_pred_train =Model.predict(x_train)\n",
    "y_pred_train"
   ]
  },
  {
   "cell_type": "code",
   "execution_count": 12,
   "id": "a0d3ef0e",
   "metadata": {},
   "outputs": [
    {
     "data": {
      "text/plain": [
       "[<matplotlib.lines.Line2D at 0x1862b2f1eb0>]"
      ]
     },
     "execution_count": 12,
     "metadata": {},
     "output_type": "execute_result"
    },
    {
     "data": {
      "image/png": "[encoded data removed]",
      "text/plain": [
       "<Figure size 432x288 with 1 Axes>"
      ]
     },
     "metadata": {
      "needs_background": "light"
     },
     "output_type": "display_data"
    }
   ],
   "source": [
    "plt.scatter(x_train,y_train)\n",
    "plt.plot(x_train,y_pred_train, color='r')"
   ]
  },
  {
   "cell_type": "markdown",
   "id": "45e36dca",
   "metadata": {},
   "source": [
    "### 2.Using Support vector Regression "
   ]
  },
  {
   "cell_type": "code",
   "execution_count": 13,
   "id": "91350a25",
   "metadata": {},
   "outputs": [],
   "source": [
    "# We need to reshape our data from 1D to 2D \n",
    "x_train = x_train.reshape(-1,1)\n",
    "y_train = y_train.reshape(-1,1)"
   ]
  },
  {
   "cell_type": "code",
   "execution_count": 14,
   "id": "f3d438cd",
   "metadata": {},
   "outputs": [
    {
     "data": {
      "text/plain": [
       "((19, 1), (19, 1))"
      ]
     },
     "execution_count": 14,
     "metadata": {},
     "output_type": "execute_result"
    }
   ],
   "source": [
    "x_train.shape, y_train.shape"
   ]
  },
  {
   "cell_type": "code",
   "execution_count": 16,
   "id": "f4340418",
   "metadata": {},
   "outputs": [],
   "source": [
    "#standarization \n",
    "#standardized dataset will have a mean of 0 and standard deviation of 1\n",
    "from sklearn.preprocessing import StandardScaler\n",
    "sc_x = StandardScaler()\n",
    "sc_y = StandardScaler()\n",
    "x= sc_x.fit_transform(x_train)\n",
    "y = sc_y.fit_transform(y_train)"
   ]
  },
  {
   "cell_type": "code",
   "execution_count": 17,
   "id": "f11e8bb4",
   "metadata": {},
   "outputs": [
    {
     "name": "stderr",
     "output_type": "stream",
     "text": [
      "C:\\Users\\CELINE\\anaconda3\\lib\\site-packages\\sklearn\\utils\\validation.py:63: DataConversionWarning: A column-vector y was passed when a 1d array was expected. Please change the shape of y to (n_samples, ), for example using ravel().\n",
      "  return f(*args, **kwargs)\n"
     ]
    },
    {
     "data": {
      "text/plain": [
       "array([-0.49506279,  0.17583328,  0.17583328,  0.17583328,  0.17583328,\n",
       "        0.17583328,  0.17583328,  0.17583328,  0.17583328,  0.17583328,\n",
       "        0.17583328,  0.17583328,  0.17583328,  0.17583328,  0.17583328,\n",
       "        0.17583328,  0.17583328,  0.17583328,  0.17583328])"
      ]
     },
     "execution_count": 17,
     "metadata": {},
     "output_type": "execute_result"
    }
   ],
   "source": [
    "# Train the SVR model on the whole dataset\n",
    "from sklearn.svm import SVR\n",
    "regressor = SVR(kernel = 'rbf')\n",
    "regressor.fit(x, y) \n",
    "y_pred_svr=regressor.predict(x_train)\n",
    "y_pred_svr"
   ]
  },
  {
   "cell_type": "code",
   "execution_count": 18,
   "id": "4f619989",
   "metadata": {},
   "outputs": [
    {
     "data": {
      "text/plain": [
       "array([-0.49506279,  0.17583328,  0.17583328,  0.17583328,  0.17583328,\n",
       "        0.17583328,  0.17583328,  0.17583328,  0.17583328,  0.17583328,\n",
       "        0.17583328,  0.17583328,  0.17583328,  0.17583328,  0.17583328,\n",
       "        0.17583328,  0.17583328,  0.17583328,  0.17583328])"
      ]
     },
     "execution_count": 18,
     "metadata": {},
     "output_type": "execute_result"
    }
   ],
   "source": [
    "#prediction \n",
    "y_pred_svr = regressor.predict(x_train)\n",
    "y_pred_svr"
   ]
  },
  {
   "cell_type": "code",
   "execution_count": 19,
   "id": "b42a53cb",
   "metadata": {},
   "outputs": [
    {
     "data": {
      "text/plain": [
       "[<matplotlib.lines.Line2D at 0x1862b3941f0>]"
      ]
     },
     "execution_count": 19,
     "metadata": {},
     "output_type": "execute_result"
    },
    {
     "data": {
      "image/png": "[encoded data removed]",
      "text/plain": [
       "<Figure size 432x288 with 1 Axes>"
      ]
     },
     "metadata": {
      "needs_background": "light"
     },
     "output_type": "display_data"
    }
   ],
   "source": [
    "#visualize \n",
    "plt.scatter(x_train,y_train)\n",
    "plt.plot(x_train,y_pred_svr,color=\"r\")"
   ]
  },
  {
   "cell_type": "markdown",
   "id": "faa1d206",
   "metadata": {},
   "source": [
    "### 3.Using Polynomial \n"
   ]
  },
  {
   "cell_type": "code",
   "execution_count": 31,
   "id": "18914572",
   "metadata": {},
   "outputs": [
    {
     "data": {
      "text/plain": [
       "array([[1.0000e+00, 0.0000e+00, 0.0000e+00, 0.0000e+00],\n",
       "       [1.0000e+00, 2.0000e+01, 4.0000e+02, 8.0000e+03],\n",
       "       [1.0000e+00, 4.0000e+01, 1.6000e+03, 6.4000e+04],\n",
       "       [1.0000e+00, 6.0000e+01, 3.6000e+03, 2.1600e+05],\n",
       "       [1.0000e+00, 8.0000e+01, 6.4000e+03, 5.1200e+05],\n",
       "       [1.0000e+00, 1.0000e+02, 1.0000e+04, 1.0000e+06],\n",
       "       [1.0000e+00, 1.2000e+02, 1.4400e+04, 1.7280e+06],\n",
       "       [1.0000e+00, 1.4000e+02, 1.9600e+04, 2.7440e+06],\n",
       "       [1.0000e+00, 1.6000e+02, 2.5600e+04, 4.0960e+06],\n",
       "       [1.0000e+00, 1.8000e+02, 3.2400e+04, 5.8320e+06],\n",
       "       [1.0000e+00, 2.0000e+02, 4.0000e+04, 8.0000e+06],\n",
       "       [1.0000e+00, 2.2000e+02, 4.8400e+04, 1.0648e+07],\n",
       "       [1.0000e+00, 2.4000e+02, 5.7600e+04, 1.3824e+07],\n",
       "       [1.0000e+00, 2.6000e+02, 6.7600e+04, 1.7576e+07],\n",
       "       [1.0000e+00, 2.8000e+02, 7.8400e+04, 2.1952e+07],\n",
       "       [1.0000e+00, 3.0000e+02, 9.0000e+04, 2.7000e+07],\n",
       "       [1.0000e+00, 3.2000e+02, 1.0240e+05, 3.2768e+07],\n",
       "       [1.0000e+00, 3.4000e+02, 1.1560e+05, 3.9304e+07],\n",
       "       [1.0000e+00, 3.6000e+02, 1.2960e+05, 4.6656e+07]])"
      ]
     },
     "execution_count": 31,
     "metadata": {},
     "output_type": "execute_result"
    }
   ],
   "source": [
    "from sklearn.preprocessing import PolynomialFeatures\n",
    "poly= PolynomialFeatures(degree=4)\n",
    "x_poly=poly.fit_transform(x_train)\n",
    "x_poly"
   ]
  },
  {
   "cell_type": "code",
   "execution_count": 32,
   "id": "7ac1588e",
   "metadata": {},
   "outputs": [
    {
     "data": {
      "text/plain": [
       "LinearRegression()"
      ]
     },
     "execution_count": 32,
     "metadata": {},
     "output_type": "execute_result"
    }
   ],
   "source": [
    "Model_poly=LinearRegression()\n",
    "Model_poly.fit(x_poly, y)"
   ]
  },
  {
   "cell_type": "code",
   "execution_count": 33,
   "id": "6231cae7",
   "metadata": {},
   "outputs": [
    {
     "data": {
      "text/plain": [
       "(array([[ 0.00000000e+00,  9.53985062e-03, -1.02790452e-04,\n",
       "          2.89608976e-07]]),\n",
       " array([-0.71894275]))"
      ]
     },
     "execution_count": 33,
     "metadata": {},
     "output_type": "execute_result"
    }
   ],
   "source": [
    "Model_poly.coef_, Model_poly.intercept_ "
   ]
  },
  {
   "cell_type": "code",
   "execution_count": 34,
   "id": "2b9f0d50",
   "metadata": {},
   "outputs": [],
   "source": [
    "y_poly_pred= Model_poly.predict(x_poly)"
   ]
  },
  {
   "cell_type": "code",
   "execution_count": 39,
   "id": "3414f3e7",
   "metadata": {},
   "outputs": [],
   "source": [
    "#visualization \n",
    "#plt.scatter(x_train, y_train, color = 'red')\n",
    "#plt.plot(x_train, y_poly_pred)\n",
    "#plt.show()"
   ]
  },
  {
   "cell_type": "code",
   "execution_count": null,
   "id": "f33bd1d6",
   "metadata": {},
   "outputs": [],
   "source": []
  }
 ],
 "metadata": {
  "kernelspec": {
   "display_name": "Python 3 (ipykernel)",
   "language": "python",
   "name": "python3"
  },
  "language_info": {
   "codemirror_mode": {
    "name": "ipython",
    "version": 3
   },
   "file_extension": ".py",
   "mimetype": "text/x-python",
   "name": "python",
   "nbconvert_exporter": "python",
   "pygments_lexer": "ipython3",
   "version": "3.9.7"
  }
 },
 "nbformat": 4,
 "nbformat_minor": 5
}
